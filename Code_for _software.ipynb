{
 "cells": [
  {
   "cell_type": "markdown",
   "id": "0a2849fb-c49e-4055-a0c3-701646932a0f",
   "metadata": {},
   "source": [
    "### PYTHON CODE STATEMENTS FOR MINI-PROJECT EXCECUTION"
   ]
  },
  {
   "cell_type": "code",
   "execution_count": 175,
   "id": "6e0f6796-153a-4b71-9c11-6ad28ad518e6",
   "metadata": {
    "tags": []
   },
   "outputs": [],
   "source": [
    "# def Menu():\n",
    "#     print('*' * 80)\n",
    "#     print('*', 'PDB FILE ANALYZER',' ' * 58,'*') \n",
    "#     print('*' * 80)\n",
    "#     print('*', 'Select an option from below:',' ' * 47,'*')\n",
    "#     print('*',' ' * 76, '*')\n",
    "#     print('*',' '*4, '1)', 'Open a PDB File',' '*15, '(O)',' '*32,'*')\n",
    "#     print('*',' '*4, '2)', 'Information',' '*19, '(I)',' '*32,'*')\n",
    "#     print('*',' '*4, '3)', 'Show histogram of amino acids',' ','(H)',' '*32,'*')\n",
    "#     print('*',' '*4, '4)', 'Display Secondary Structure',' '*3, '(S)',' '*32,'*')\n",
    "#     print('*',' '*4, '5)', 'Export PDB File',' '*15, '(X)',' '*32,'*')\n",
    "#     print('*',' '*4, '6)', 'Exit',' '*26,'(Q)',' '*32,'*')\n",
    "#     print('*',' '*76, '*')\n",
    "#     print('*',' '*58, 'Current PDB: None', '*')\n",
    "#     print('*'*80)\n",
    "#     inp()\n",
    "\n"
   ]
  },
  {
   "cell_type": "code",
   "execution_count": 74,
   "id": "12986331-63e7-44f4-a0bc-b817e3098977",
   "metadata": {
    "tags": []
   },
   "outputs": [],
   "source": [
    "# Menu()"
   ]
  },
  {
   "cell_type": "code",
   "execution_count": 22,
   "id": "ebc751ba-2643-4c5b-a36f-db403852e36f",
   "metadata": {
    "tags": []
   },
   "outputs": [],
   "source": [
    "# def Menu():\n",
    "#     print('*' * 80)\n",
    "#     print('*', 'PDB FILE ANALYZER',' ' * 58,'*') \n",
    "#     print('*' * 80)\n",
    "#     print('*', 'Select an option from below:',' ' * 47,'*')\n",
    "#     print('*',' ' * 76, '*')\n",
    "#     print('*',' '*4, '1)', 'Open a PDB File',' '*15, '(O)',' '*32,'*')\n",
    "#     print('*',' '*4, '2)', 'Information',' '*19, '(I)',' '*32,'*')\n",
    "#     print('*',' '*4, '3)', 'Show histogram of amino acids',' ','(H)',' '*32,'*')\n",
    "#     print('*',' '*4, '4)', 'Display Secondary Structure',' '*3, '(S)',' '*32,'*')\n",
    "#     print('*',' '*4, '5)', 'Export PDB File',' '*15, '(X)',' '*32,'*')\n",
    "#     print('*',' '*4, '6)', 'Exit',' '*26,'(Q)',' '*32,'*')\n",
    "#     print('*',' '*76, '*')\n",
    "#     print('*',' '*58, 'Current PDB: None', '*')\n",
    "#     print('*'*80)\n",
    "#     ## print(':')\n",
    "#     ##choice = input(\":\")\n",
    "#     ## if choice in (\"O\",\"I\",\"H\",\"S\",\"X\",\"Q\"):\n",
    "#     ##     if choice == \"O\":\n",
    "#     ##         print(input( \"Enter a Valid PATH for a PDB File: \"))\n",
    "#     ## else:\n",
    "#     ##     print(\"Invalid\")\n",
    "\n"
   ]
  },
  {
   "cell_type": "code",
   "execution_count": 75,
   "id": "b7d32de9-ca46-4976-91a5-fe94c8b77c65",
   "metadata": {
    "tags": []
   },
   "outputs": [],
   "source": [
    "# Menu()"
   ]
  },
  {
   "cell_type": "code",
   "execution_count": 27,
   "id": "7a771872-61d1-4fae-b3b8-729717a33182",
   "metadata": {
    "tags": []
   },
   "outputs": [
    {
     "name": "stdout",
     "output_type": "stream",
     "text": [
      "                      jjjjjjjj\n",
      "hello                      jjjjjjjj\n",
      "current pdb:                                                rrrrrrAYU.pdb\n"
     ]
    }
   ],
   "source": [
    "y='jjjjjjjj'\n",
    "print(y.rjust(30))\n",
    "print(\"hello%30s\"%y)\n",
    "file=\"rrrrrrAYU.pdb\"\n",
    "print(\"current pdb: %60s\"%file)"
   ]
  },
  {
   "cell_type": "code",
   "execution_count": 321,
   "id": "0567dab4-2e52-42d4-91ee-10039033324f",
   "metadata": {},
   "outputs": [],
   "source": [
    "def menu():\n",
    "    print('*' * 80)\n",
    "    print('*', 'PDB FILE ANALYZER',' ' * 58,'*') \n",
    "    print('*' * 80)\n",
    "    print('*', 'Select an option from below:',' ' * 47,'*')\n",
    "    print('*',' ' * 76, '*')\n",
    "    print('*',' '*4, '1)', 'Open a PDB File',' '*15, '(O)',' '*32,'*')\n",
    "    print('*',' '*4, '2)', 'Information',' '*19, '(I)',' '*32,'*')\n",
    "    print('*',' '*4, '3)', 'Show histogram of amino acids',' ','(H)',' '*32,'*')\n",
    "    print('*',' '*4, '4)', 'Display Secondary Structure',' '*3, '(S)',' '*32,'*')\n",
    "    print('*',' '*4, '5)', 'Exit',' '*26,'(Q)',' '*32,'*')\n",
    "    print('*',' '*76, '*')\n",
    "    # print('*',' '*58, 'Current PDB:'+path1, '*')\n",
    "    # print('*',' '*58, 'Current PDB: %-10s'%(path1), '*')\n",
    "    print('*', ('Current PDB:%3s'%path1).rjust(76), '*')\n",
    "    print('*'*80)\n",
    "    inp3()\n",
    "\n"
   ]
  },
  {
   "cell_type": "code",
   "execution_count": 322,
   "id": "17fa9e63-c028-40c7-82ca-2f176916f3d4",
   "metadata": {},
   "outputs": [
    {
     "name": "stdout",
     "output_type": "stream",
     "text": [
      "********************************************************************************\n",
      "* PDB FILE ANALYZER                                                            *\n",
      "********************************************************************************\n",
      "* Select an option from below:                                                 *\n",
      "*                                                                              *\n",
      "*      1) Open a PDB File                 (O)                                  *\n",
      "*      2) Information                     (I)                                  *\n",
      "*      3) Show histogram of amino acids   (H)                                  *\n",
      "*      4) Display Secondary Structure     (S)                                  *\n",
      "*      5) Exit                            (Q)                                  *\n",
      "*                                                                              *\n",
      "*                                                         Current PDB:3AYU.pdb *\n",
      "********************************************************************************\n"
     ]
    },
    {
     "name": "stdin",
     "output_type": "stream",
     "text": [
      ": o\n",
      "Enter a Valid PATH for a PDB File: 2r9r.pdb\n"
     ]
    },
    {
     "name": "stdout",
     "output_type": "stream",
     "text": [
      "The File 2r9r.pdb has been successfully loaded\n",
      "********************************************************************************\n",
      "* PDB FILE ANALYZER                                                            *\n",
      "********************************************************************************\n",
      "* Select an option from below:                                                 *\n",
      "*                                                                              *\n",
      "*      1) Open a PDB File                 (O)                                  *\n",
      "*      2) Information                     (I)                                  *\n",
      "*      3) Show histogram of amino acids   (H)                                  *\n",
      "*      4) Display Secondary Structure     (S)                                  *\n",
      "*      5) Exit                            (Q)                                  *\n",
      "*                                                                              *\n",
      "*                                                         Current PDB:2r9r.pdb *\n",
      "********************************************************************************\n"
     ]
    },
    {
     "name": "stdin",
     "output_type": "stream",
     "text": [
      ": 4\n"
     ]
    },
    {
     "name": "stdout",
     "output_type": "stream",
     "text": [
      "Secondary Structure of the PDB id 2r9r.pdb: \n",
      "Chain A:\n",
      "(1)\n",
      "end\n",
      "MLQFYRNLGKSGLRVSCLGLGTWVTFGGQITDEMAEHLMTLAYDNGINLFDTAEVYAAGKAEVVLGNIIKKKGWRRSSLV\n",
      "--------------------------------------|||------|||-||||---------///////////////-\n",
      "                                      1A       2A  9B           1               \n",
      "ITTKIFWGGKAETERGLSRKHIIEGLKASLERLQLEYVDVVFANRPDPNTPMEETVRAMTHVINQGMAMYWGTSRWSSME\n",
      "--|||---///////////////////-/////||||||-----/////--/////////////////---||||||---\n",
      "  2B    2   3               4    3B         5      6                   4B       \n",
      "IMEAYSVARQFNLIPPICEQAEYHMFQREKVEVQLPELFHKIGVGAMTWSPLACGIVSGKYDSGIPPYSRASLKGYQWLK\n",
      "----///////////////--|||||||--///////////////------|||-------////////////////-||\n",
      "    7                5B       8                    6B        9     10          7\n",
      "DKILSEEGRRQQAKLKELQAIAERLGCTLPQLAIAWCLRNEGVSSVLLGASNAEQLMENIGAIQVLPKLSSSIVHEIDSI\n",
      "||---////////---------/////--//////////////////////////////--///////////----||||\n",
      "B     11                12      13        14                      15            \n",
      "LGNKPYSKKDYRS\n",
      "||---////////\n",
      "  8B       16       \n",
      "(333)\n",
      "\n",
      "\n",
      "Chain B:\n",
      "(1)\n",
      "end\n",
      "MAHHHHHHHHHHGLVPRGSMTVATGDPVDEAAALPGHPQDTYDPEADHESSERVVINISGLRFETQLKTLAQFPETLLGD\n",
      "---------------------------------||||||--||||||/////--------//////--||----||||--\n",
      "                                 2C      1C    20            21       4C    3C  \n",
      "PKKRMRYFDPLRNEYFFDRNRPSFDAILYYYQSGGRLRRPVNVPLDIFSEEIRFYELGEEAMEMFREDEGYIKEEERPLP\n",
      "///////////////---------////////////--////////////--------------////////------//\n",
      "  22                       23             24                         25         \n",
      "ENEFQRQVWLLFEYPESSGPARIIAIVSVMVILISIVSFCLETLPIFRDENEDMHGGGVTFHTYSQSTIGYQQSTSFTDP\n",
      "///////////////////////-//////----------///////////--------/////////////////////\n",
      "    26                         27               28                  29          \n",
      "FFIVETLCIIWFSFEFLVRFFACPSKAGFFTNIMNIIDIVAIIPYYVTIFLTESNKSVLQFQNVRRVVQIFRIMRILRIF\n",
      "////--------///////////////////////--///////////////////////////////////////////\n",
      "                      30         31              32      33           34        \n",
      "KLSRHSKGLQILGQTLKASMRELGLLIFFLFIGVILFSSAVYFAEADERDSQFPSIPDAFWWAVVSMTTVGYGDMVPTTI\n",
      "///////////////////////////--------//////////////----------/////////////////////\n",
      " 35            36                                   37                       38 \n",
      "GGKIVGSLCAIAGVLTIALPVPVIVSNFNYFYHRETEGEEQAQYLQVTSSPKIPSSPDLKKSRSASTISKSDYMEIQEGV\n",
      "/////////////////---------------------------------------------------------------\n",
      "                   39                                                           \n",
      "NNSNEDFREENLKTANSTLANTNYVNITKMLTDV\n",
      "----------------------------------\n",
      "                                                      \n",
      "(514)\n",
      "\n",
      "\n"
     ]
    }
   ],
   "source": [
    "menu()"
   ]
  },
  {
   "cell_type": "code",
   "execution_count": 312,
   "id": "cf7e9333-066b-436c-8a21-df59ca56dffa",
   "metadata": {},
   "outputs": [],
   "source": [
    "def inp3():\n",
    "    import sys\n",
    "    choice = input(':')\n",
    "    selection = (\"O\",\"I\",\"H\",\"S\",\"Q\",'1','2','3','4','5')\n",
    "    if choice.upper() in selection:\n",
    "        if choice.upper() == (\"O\") or choice == '1':\n",
    "            file_path()\n",
    "        elif choice.upper() == (\"I\") or choice == '2':\n",
    "            print(\"PDB File:\",path1)\n",
    "            information()\n",
    "        elif choice.upper() == (\"H\") or choice == '3':\n",
    "            histogram_aa()\n",
    "        elif choice.upper() == (\"S\") or choice == '4':\n",
    "            structure()\n",
    "        elif choice.upper() == (\"Q\") or choice == '5':\n",
    "            while True:\n",
    "                quit = input('Do you want to exit(E) or do you want go back to the menu (M):')\n",
    "                if quit.upper() == 'E':\n",
    "                    break\n",
    "                elif quit.upper() == 'M':\n",
    "                    menu()\n",
    "\n",
    "\n",
    "    else:\n",
    "        print(\"Invalid choice.Please input a valid choice\")\n",
    "        menu()"
   ]
  },
  {
   "cell_type": "code",
   "execution_count": 24,
   "id": "14010a52-baf1-42bd-8653-90da94a1fd4a",
   "metadata": {},
   "outputs": [],
   "source": [
    "def file_path():\n",
    "    import os\n",
    "    global path1 #used for displaying the loaded file at the right corner of the menu\n",
    "    global myfile\n",
    "    myfile = None\n",
    "    path1 = 'None'\n",
    "    fpath = input(\"Enter a Valid PATH for a PDB File:\")\n",
    "    if fpath.endswith('.pdb'):\n",
    "        if os.path.exists(fpath):\n",
    "            with open(fpath,'r') as file:\n",
    "                myfile = file.readlines()\n",
    "                print('The File ' + fpath + ' has been successfully loaded')\n",
    "                path1=fpath\n",
    "                menu()\n",
    "        else:\n",
    "            print('File ' + fpath + ' not found')\n",
    "            file_path()\n",
    "    else:\n",
    "        print('Path not found')\n",
    "        file_path()"
   ]
  },
  {
   "cell_type": "code",
   "execution_count": 23,
   "id": "5b4da870-aac2-4e6e-af6f-627387dd5a0b",
   "metadata": {
    "tags": []
   },
   "outputs": [],
   "source": [
    "file_path()"
   ]
  },
  {
   "cell_type": "code",
   "execution_count": 415,
   "id": "bf4f6d2a-bae1-4a96-8563-4143c495622e",
   "metadata": {
    "tags": []
   },
   "outputs": [],
   "source": []
  },
  {
   "cell_type": "code",
   "execution_count": 416,
   "id": "8dbe1229-6d8a-4da7-8de1-2a6c0071d222",
   "metadata": {
    "collapsed": true,
    "jupyter": {
     "outputs_hidden": true
    },
    "tags": []
   },
   "outputs": [
    {
     "name": "stdin",
     "output_type": "stream",
     "text": [
      ": i\n"
     ]
    },
    {
     "name": "stdout",
     "output_type": "stream",
     "text": [
      "PDB File: None\n",
      "Title: CRYSTAL STRUCTURE OF MMP-2 ACTIVE SITE MUTANT IN COMPLEX WITH APP-DRIVED \n",
      "DECAPEPTIDE INHIBITOR\n",
      "CHAINS: A and B\n",
      " -Chain A\n",
      "   Number of amino acids:  167\n",
      "   Number of helix:          3\n",
      "   Number of sheet:          9\n",
      "   Sequence:  YNFFPRKPKWDKNQITYRIIGYTPDLDPETVDDAFARAFQVWSDVTPLRF\n",
      "              SRIHDGEADIMINFGRWEHGDGYPFDGKDGLLAHAFAPGTGVGGDSHFDD\n",
      "              DELWTLGKGVGYSLFLVAAHAFGHAMGLEHSQDPGALMAPIYTYTKNFRL\n",
      "              SQDDIKGIQELYGASPD\n",
      " -Chain B\n",
      "   Number of amino acids:   10\n",
      "   Number of helix:          0\n",
      "   Number of sheet:          1\n",
      "   Sequence:  ISYGNDALMP\n"
     ]
    }
   ],
   "source": []
  },
  {
   "cell_type": "code",
   "execution_count": 30,
   "id": "40d1b67e-6c1a-41cb-bd6b-dbb189b46779",
   "metadata": {
    "tags": []
   },
   "outputs": [],
   "source": [
    "def information():\n",
    "    #print(myfile)\n",
    "    title='Title: '\n",
    "    for l in myfile:\n",
    "        if l.startswith('TITLE'):\n",
    "            title += l[10:80].strip()\n",
    "    for x in range(0,len(title),80):\n",
    "        print(title[x:x+80])\n",
    "    chain = ''\n",
    "    chain_list = []\n",
    "    chain3 = ''\n",
    "    for l in myfile:\n",
    "        if l.startswith('COMPND'):\n",
    "            if 'CHAIN:'in l[11:17]:\n",
    "                # print(l)\n",
    "                chain += l[18:79].strip().replace(' ','').replace(';',',')\n",
    "                chain2 = chain[:-1]\n",
    "                # print(chain)\n",
    "                # print(chain2)\n",
    "                chain_list = chain2.split(',')\n",
    "                chain3 = chain2.replace(',',' and ')\n",
    "    # print(chain_list)\n",
    "    print('CHAINS:',chain3)\n",
    "    inf()\n",
    "    menu()"
   ]
  },
  {
   "cell_type": "code",
   "execution_count": 652,
   "id": "16a3427c-9af8-4ed9-ba03-f21be7d0d658",
   "metadata": {},
   "outputs": [],
   "source": [
    "information()"
   ]
  },
  {
   "cell_type": "code",
   "execution_count": 53,
   "id": "6536a046-1eb9-4ae3-8bf8-aee52364b833",
   "metadata": {
    "tags": []
   },
   "outputs": [],
   "source": [
    "def inf():\n",
    "    chain = ''\n",
    "    global chain_list \n",
    "    chain_list = []\n",
    "    chain3 = ''\n",
    "    for l in myfile:\n",
    "        if l.startswith('COMPND'):\n",
    "            if 'CHAIN:'in l[11:17]:\n",
    "                # print(l)\n",
    "                chain += l[18:79].strip().replace(' ','').replace(';',',')\n",
    "                chain2 = chain[:-1]\n",
    "                # print(chain)\n",
    "                # print(chain2)\n",
    "                chain_list = chain2.split(',')\n",
    "                # print(chain_list)\n",
    "                chain3 = chain2.replace(',',' and ')\n",
    "    for i,x in enumerate(chain_list):\n",
    "        n = '\\n'.ljust(15)\n",
    "        print(' -Chain ',chain_list[i])\n",
    "        print('   Number of amino acids: ',amino_acid_no()[chain_list[i]])\n",
    "        print('   Number of helix:',f'{no_of_helix()[chain_list[i]]}'.rjust(10))\n",
    "        print('   Number of sheet:',f'{no_of_sheet()[chain_list[i]]}'.rjust(10))\n",
    "        print(f\"{'   Sequence:  '}{n.join([(sequence()[chain_list[i]][y:y+50]) for y in range(0,len(sequence()[chain_list[i]]),50)])}\")\n"
   ]
  },
  {
   "cell_type": "code",
   "execution_count": 149,
   "id": "a521deb9-356f-4997-96ed-8f9927b37ff6",
   "metadata": {},
   "outputs": [
    {
     "name": "stdout",
     "output_type": "stream",
     "text": [
      " -Chain  A\n",
      "   Number of amino acids:  167\n",
      "   Number of helix:          3\n",
      "   Number of sheet:          9\n",
      "   Sequence:  YNFFPRKPKWDKNQITYRIIGYTPDLDPETVDDAFARAFQVWSDVTPLRF\n",
      "              SRIHDGEADIMINFGRWEHGDGYPFDGKDGLLAHAFAPGTGVGGDSHFDD\n",
      "              DELWTLGKGVGYSLFLVAAHAFGHAMGLEHSQDPGALMAPIYTYTKNFRL\n",
      "              SQDDIKGIQELYGASPD\n",
      " -Chain  B\n",
      "   Number of amino acids:   10\n",
      "   Number of helix:          0\n",
      "   Number of sheet:          1\n",
      "   Sequence:  ISYGNDALMP\n"
     ]
    }
   ],
   "source": [
    "inf()"
   ]
  },
  {
   "cell_type": "code",
   "execution_count": 162,
   "id": "543fe761-b875-498f-9c6a-d5c6af4401ae",
   "metadata": {
    "tags": []
   },
   "outputs": [],
   "source": [
    "def amino_acid_no():\n",
    "    aa = {}\n",
    "    for l in myfile:\n",
    "        if l.startswith('SEQRES'):\n",
    "            # print(l)\n",
    "            # print(chain_list1)\n",
    "            for i in chain_list:\n",
    "                # print(i)\n",
    "                # print(l[11])\n",
    "                if i in l[11]:\n",
    "                    # print('done')\n",
    "                    # print(i)\n",
    "                    aa[i] = l[14:17]  \n",
    "\n",
    "    return aa"
   ]
  },
  {
   "cell_type": "code",
   "execution_count": 164,
   "id": "00dfba0e-395a-4876-b832-1dc0cdcdf2cc",
   "metadata": {},
   "outputs": [
    {
     "data": {
      "text/plain": [
       "{'A': '167', 'B': ' 10'}"
      ]
     },
     "execution_count": 164,
     "metadata": {},
     "output_type": "execute_result"
    }
   ],
   "source": [
    "amino_acid_no()"
   ]
  },
  {
   "cell_type": "code",
   "execution_count": 41,
   "id": "0dbdbcf6-14be-472b-940f-5be032fc59f0",
   "metadata": {
    "tags": []
   },
   "outputs": [],
   "source": [
    "def no_of_helix():\n",
    "    nhelix = {}\n",
    "    for chain in chain_list:\n",
    "        # print(chain_list)\n",
    "        for l in myfile:\n",
    "            if l.startswith('HELIX'):\n",
    "                if chain in l[19]:\n",
    "                    # print(l[19])\n",
    "                        if nhelix.get(chain):\n",
    "                            nhelix[chain] += 1\n",
    "                            \n",
    "                        else:\n",
    "                                nhelix[chain] = 1\n",
    "    \n",
    "    for chain in chain_list:\n",
    "        if nhelix.get(chain):\n",
    "            pass\n",
    "        else:\n",
    "            nhelix[chain] = 0\n",
    "        \n",
    "    # for l in myfile:\n",
    "        if l.startswith('HELIX'):\n",
    "            # print(l)\n",
    "            # print('Before looping',chain_list1)\n",
    "            for i in chain_list1:\n",
    "                # print(i)\n",
    "                if i in l[19]:\n",
    "                    # print(l[19])\n",
    "                    nh.append(l[19])\n",
    "                    nh_count += 1\n",
    "                # # else:\n",
    "                #     flag = False\n",
    "                #     nh = []\n",
    "    # print(nh)\n",
    "    return nhelix\n",
    "                \n",
    "            "
   ]
  },
  {
   "cell_type": "code",
   "execution_count": 761,
   "id": "42b90004-2246-40cd-8042-dec54a95ea4f",
   "metadata": {},
   "outputs": [
    {
     "data": {
      "text/plain": [
       "{'A': 39}"
      ]
     },
     "execution_count": 761,
     "metadata": {},
     "output_type": "execute_result"
    }
   ],
   "source": [
    "no_of_helix(ch1)"
   ]
  },
  {
   "cell_type": "code",
   "execution_count": null,
   "id": "9d4ee84c-9ac1-4864-baf4-73619740517c",
   "metadata": {},
   "outputs": [],
   "source": []
  },
  {
   "cell_type": "code",
   "execution_count": 42,
   "id": "130df10a-bac4-4bdc-97a3-6a9468768f79",
   "metadata": {
    "tags": []
   },
   "outputs": [],
   "source": [
    "def no_of_sheet():\n",
    "    nsheet = {}\n",
    "    for chain in chain_list:\n",
    "        # print(chain_list)\n",
    "        for l in myfile:\n",
    "            if l.startswith('SHEET'):\n",
    "                if chain in l[21]:\n",
    "                    # print(l[21])\n",
    "                    if nsheet.get(chain):\n",
    "                        # print(nsheet)\n",
    "                        nsheet[chain] += 1\n",
    "                            \n",
    "                    else:\n",
    "                        nsheet[chain] = 1\n",
    "                        # else:\n",
    "                        #     ns[chain] = 0\n",
    "                                # nh_count += 1\n",
    "    for chain in chain_list:\n",
    "        if nsheet.get(chain):\n",
    "            pass\n",
    "        else:\n",
    "            nsheet[chain] = 0\n",
    "    return nsheet\n",
    "                \n",
    "            "
   ]
  },
  {
   "cell_type": "code",
   "execution_count": 629,
   "id": "9ec62a79-388a-4fce-bb40-4fc28d3e9a78",
   "metadata": {},
   "outputs": [
    {
     "data": {
      "text/plain": [
       "{'A': 11, 'G': 11, 'B': 4, 'H': 4}"
      ]
     },
     "execution_count": 629,
     "metadata": {},
     "output_type": "execute_result"
    }
   ],
   "source": [
    "no_of_sheet(ch1)"
   ]
  },
  {
   "cell_type": "code",
   "execution_count": 43,
   "id": "7e204aa6-0c38-4cdf-a1c0-829e03fb138f",
   "metadata": {},
   "outputs": [],
   "source": []
  },
  {
   "cell_type": "code",
   "execution_count": 277,
   "id": "3b351e33-0946-45b3-af70-1d6f5adfbe39",
   "metadata": {
    "tags": []
   },
   "outputs": [],
   "source": [
    "def sequence():\n",
    "    d = {'CYS': 'C', 'ASP': 'D', 'SER': 'S', 'GLN': 'Q', 'LYS': 'K',\n",
    "         'ILE': 'I', 'PRO': 'P', 'THR': 'T', 'PHE': 'F', 'ASN': 'N',\n",
    "         'GLY': 'G', 'HIS': 'H', 'LEU': 'L', 'ARG': 'R', 'TRP': 'W',\n",
    "         'ALA': 'A', 'VAL':'V', 'GLU': 'E', 'TYR': 'Y', 'MET': 'M'}\n",
    "    seq = []\n",
    "    for line in myfile:\n",
    "        if line.startswith('SEQRES'):\n",
    "            seq.append({line[11]:line.split()[4:]})\n",
    "    seq_dict={}\n",
    "    for l in seq:\n",
    "        # print(l)\n",
    "        for j,i in l.items():\n",
    "            if seq_dict.get(j):\n",
    "                seq_dict[j] += i\n",
    "\n",
    "            else:\n",
    "                seq_dict[j] = i\n",
    "    a=''\n",
    "    chain_res = {}\n",
    "    for chain in chain_list:\n",
    "        b = seq_dict.get(chain)\n",
    "        for p in b:\n",
    "            a+=d.get(p)\n",
    "        chain_res[chain] = a\n",
    "        a=''\n",
    "    return chain_res"
   ]
  },
  {
   "cell_type": "code",
   "execution_count": 278,
   "id": "93fd7261-a840-40e7-8d63-97979e5fd86b",
   "metadata": {
    "tags": []
   },
   "outputs": [
    {
     "data": {
      "text/plain": [
       "{'A': 'YNFFPRKPKWDKNQITYRIIGYTPDLDPETVDDAFARAFQVWSDVTPLRFSRIHDGEADIMINFGRWEHGDGYPFDGKDGLLAHAFAPGTGVGGDSHFDDDELWTLGKGVGYSLFLVAAHAFGHAMGLEHSQDPGALMAPIYTYTKNFRLSQDDIKGIQELYGASPD',\n",
       " 'B': 'ISYGNDALMP'}"
      ]
     },
     "execution_count": 278,
     "metadata": {},
     "output_type": "execute_result"
    }
   ],
   "source": [
    "sequence()"
   ]
  },
  {
   "cell_type": "code",
   "execution_count": null,
   "id": "fc3d071b-fa44-44b0-8985-f6e718262742",
   "metadata": {},
   "outputs": [],
   "source": []
  },
  {
   "cell_type": "code",
   "execution_count": 46,
   "id": "fa2729ae-564d-4147-a665-3a7420a23850",
   "metadata": {
    "collapsed": true,
    "jupyter": {
     "outputs_hidden": true
    },
    "tags": []
   },
   "outputs": [
    {
     "name": "stdout",
     "output_type": "stream",
     "text": [
      "i,s,y,g,n,d,a,l,m,p\n",
      "['Y', 'N', 'F', 'F', 'P', 'R', 'K', 'P', 'K', 'W', 'D', 'K', 'N', 'Q', 'I', 'T', 'Y', 'R', 'I', 'I', 'G', 'Y', 'T', 'P', 'D', 'L', 'D', 'P', 'E', 'T', 'V', 'D', 'D', 'A', 'F', 'A', 'R', 'A', 'F', 'Q', 'V', 'W', 'S', 'D', 'V', 'T', 'P', 'L', 'R', 'F', 'S', 'R', 'I', 'H', 'D', 'G', 'E', 'A', 'D', 'I', 'M', 'I', 'N', 'F', 'G', 'R', 'W', 'E', 'H', 'G', 'D', 'G', 'Y', 'P', 'F', 'D', 'G', 'K', 'D', 'G', 'L', 'L', 'A', 'H', 'A', 'F', 'A', 'P', 'G', 'T', 'G', 'V', 'G', 'G', 'D', 'S', 'H', 'F', 'D', 'D', 'D', 'E', 'L', 'W', 'T', 'L', 'G', 'K', 'G', 'V', 'G', 'Y', 'S', 'L', 'F', 'L', 'V', 'A', 'A', 'H', 'A', 'F', 'G', 'H', 'A', 'M', 'G', 'L', 'E', 'H', 'S', 'Q', 'D', 'P', 'G', 'A', 'L', 'M', 'A', 'P', 'I', 'Y', 'T', 'Y', 'T', 'K', 'N', 'F', 'R', 'L', 'S', 'Q', 'D', 'D', 'I', 'K', 'G', 'I', 'Q', 'E', 'L', 'Y', 'G', 'A', 'S', 'P', 'D']\n"
     ]
    }
   ],
   "source": []
  },
  {
   "cell_type": "code",
   "execution_count": 280,
   "id": "792c8012-8be8-4293-99ed-29b55b1dea34",
   "metadata": {
    "tags": []
   },
   "outputs": [],
   "source": []
  },
  {
   "cell_type": "code",
   "execution_count": 284,
   "id": "27c708a4-8c6c-42ab-9525-1b760917454c",
   "metadata": {},
   "outputs": [],
   "source": [
    "# inp3()"
   ]
  },
  {
   "cell_type": "code",
   "execution_count": 49,
   "id": "862c5db3-c8c4-448d-99b8-13029b9da208",
   "metadata": {
    "tags": []
   },
   "outputs": [],
   "source": [
    "def histogram_aa():\n",
    "    print(f'{\"Choose an option to order by: \":>30}')\n",
    "    # print(f'{\"Left Aligned Text\" : >20}')\n",
    "    print(f'{\"number of amino acids - ascending   (an)\":>43}')\n",
    "    print(f'{\"number of amino acids - descending  (dn)\":>43}')\n",
    "    print(f'{\"alphabetically - ascending          (aa)\":>43}')\n",
    "    print(f'{\"alphabetically - descending         (da)\":>43}')\n",
    "    choice = input('order by:')\n",
    "    select = ('aa','an','dn','da')\n",
    "    if choice.lower() in select:\n",
    "        print('\\n')\n",
    "        if choice.lower() == 'aa':\n",
    "            histogram1()\n",
    "            menu()\n",
    "        elif choice.lower() == 'da':\n",
    "            histogram2()\n",
    "            menu()\n",
    "        elif choice.lower() == 'dn':\n",
    "            histogram3()\n",
    "            menu()\n",
    "        elif choice.lower() == 'an':\n",
    "            histogram4()\n",
    "            menu()\n",
    "    else:\n",
    "        print('Wrong input,Please type the correct input')\n",
    "        print('\\n')\n",
    "        histogram_aa()"
   ]
  },
  {
   "cell_type": "code",
   "execution_count": 439,
   "id": "dbb63423-6262-4b26-97ee-8041f22bbbbe",
   "metadata": {
    "tags": []
   },
   "outputs": [],
   "source": [
    "histogram_aa()"
   ]
  },
  {
   "cell_type": "code",
   "execution_count": 48,
   "id": "3c7d43c5-7fe5-4b04-9492-2affcff50ea9",
   "metadata": {
    "tags": []
   },
   "outputs": [],
   "source": [
    "def histogram1():\n",
    "    seqf=[]\n",
    "    for line in myfile:\n",
    "        if line.startswith('SEQRES'):\n",
    "            seqf.append(line.split()[4:])\n",
    "    s=[]\n",
    "    b = ''\n",
    "    for u in seqf:\n",
    "        # print(i)\n",
    "        for y in u:\n",
    "            s.append(y)\n",
    "            sorted_list = sorted(s)\n",
    "    # print(sorted_list)\n",
    "    \n",
    "    c = {}\n",
    "    lc_list = ' '.join(sorted_list)\n",
    "    result = lc_list.title()\n",
    "    lowcase = result.split(' ')\n",
    "    # print(lowcase)\n",
    "    for z in lowcase:\n",
    "        n = '\\n'.ljust(16)\n",
    "        a = lowcase.count(z)\n",
    "        # print(z+'(%d) : '%(a)+'*'*a)\n",
    "        c[z] = z.ljust(4)+'(%s)'.rjust(5)%(f'{a:>3}')+ ':'.center(5) +f\"{n.join([('*'*a)[y:y+80] for y in range(0,len(('*'*a)),80)])}\"\n",
    "    for value in c.values():\n",
    "        print(value)"
   ]
  },
  {
   "cell_type": "code",
   "execution_count": 662,
   "id": "3cb8c239-10d1-415c-b44a-77e7920ff368",
   "metadata": {
    "collapsed": true,
    "jupyter": {
     "outputs_hidden": true
    },
    "tags": []
   },
   "outputs": [
    {
     "name": "stdout",
     "output_type": "stream",
     "text": [
      "Ala  (104)  :  ********************************************************************************\n",
      "               ************************\n",
      "Arg  ( 94)  :  ********************************************************************************\n",
      "               **************\n",
      "Asn  ( 64)  :  ****************************************************************\n",
      "Asp  ( 64)  :  ****************************************************************\n",
      "Cys  ( 18)  :  ******************\n",
      "Gln  ( 68)  :  ********************************************************************\n",
      "Glu  (132)  :  ********************************************************************************\n",
      "               ****************************************************\n",
      "Gly  (112)  :  ********************************************************************************\n",
      "               ********************************\n",
      "His  ( 44)  :  ********************************************\n",
      "Ile  (130)  :  ********************************************************************************\n",
      "               **************************************************\n",
      "Leu  (148)  :  ********************************************************************************\n",
      "               ********************************************************************\n",
      "Lys  ( 74)  :  **************************************************************************\n",
      "Met  ( 52)  :  ****************************************************\n",
      "Phe  ( 92)  :  ********************************************************************************\n",
      "               ************\n",
      "Pro  ( 78)  :  ******************************************************************************\n",
      "Ser  (132)  :  ********************************************************************************\n",
      "               ****************************************************\n",
      "Thr  ( 88)  :  ********************************************************************************\n",
      "               ********\n",
      "Trp  ( 24)  :  ************************\n",
      "Tyr  ( 64)  :  ****************************************************************\n",
      "Val  (112)  :  ********************************************************************************\n",
      "               ********************************\n"
     ]
    }
   ],
   "source": [
    "histogram1()"
   ]
  },
  {
   "cell_type": "code",
   "execution_count": 47,
   "id": "18246623-95f9-4e74-ad88-5060be00e7b1",
   "metadata": {
    "tags": []
   },
   "outputs": [],
   "source": [
    "def histogram2():\n",
    "    seqf=[]\n",
    "    for line in myfile:\n",
    "        if line.startswith('SEQRES'):\n",
    "            seqf.append(line.split()[4:])\n",
    "    s=[]\n",
    "    b = ''\n",
    "    for u in seqf:\n",
    "        # print(i)\n",
    "        for y in u:\n",
    "            s.append(y)\n",
    "            sorted_list = sorted(s)\n",
    "    # print(sorted_list)\n",
    "    \n",
    "    c = {}\n",
    "    lc_list = ' '.join(sorted_list)\n",
    "    result = lc_list.title()\n",
    "    lowcase = result.split(' ')\n",
    "    lowcase_rev = lowcase[::-1]\n",
    "    # print(lowcase_rev)\n",
    "    # print(lowcase)\n",
    "    for z in lowcase_rev:\n",
    "        n = '\\n'.ljust(16)\n",
    "        a = lowcase_rev.count(z)\n",
    "        # print(z+'(%d) : '%(a)+'*'*a)\n",
    "        c[z] = z.ljust(4)+'(%s)'.rjust(5)%(f'{a:>3}')+ ':'.center(5) +f\"{n.join([('*'*a)[y:y+80] for y in range(0,len(('*'*a)),80)])}\"\n",
    "    for value in c.values():\n",
    "        print(value)"
   ]
  },
  {
   "cell_type": "code",
   "execution_count": 664,
   "id": "7cd65992-1fc3-491e-8bce-12d9ee161cdb",
   "metadata": {
    "collapsed": true,
    "jupyter": {
     "outputs_hidden": true
    },
    "tags": []
   },
   "outputs": [
    {
     "name": "stdout",
     "output_type": "stream",
     "text": [
      "Val  (112)  :  ********************************************************************************\n",
      "               ********************************\n",
      "Tyr  ( 64)  :  ****************************************************************\n",
      "Trp  ( 24)  :  ************************\n",
      "Thr  ( 88)  :  ********************************************************************************\n",
      "               ********\n",
      "Ser  (132)  :  ********************************************************************************\n",
      "               ****************************************************\n",
      "Pro  ( 78)  :  ******************************************************************************\n",
      "Phe  ( 92)  :  ********************************************************************************\n",
      "               ************\n",
      "Met  ( 52)  :  ****************************************************\n",
      "Lys  ( 74)  :  **************************************************************************\n",
      "Leu  (148)  :  ********************************************************************************\n",
      "               ********************************************************************\n",
      "Ile  (130)  :  ********************************************************************************\n",
      "               **************************************************\n",
      "His  ( 44)  :  ********************************************\n",
      "Gly  (112)  :  ********************************************************************************\n",
      "               ********************************\n",
      "Glu  (132)  :  ********************************************************************************\n",
      "               ****************************************************\n",
      "Gln  ( 68)  :  ********************************************************************\n",
      "Cys  ( 18)  :  ******************\n",
      "Asp  ( 64)  :  ****************************************************************\n",
      "Asn  ( 64)  :  ****************************************************************\n",
      "Arg  ( 94)  :  ********************************************************************************\n",
      "               **************\n",
      "Ala  (104)  :  ********************************************************************************\n",
      "               ************************\n"
     ]
    }
   ],
   "source": [
    "histogram2()"
   ]
  },
  {
   "cell_type": "code",
   "execution_count": 46,
   "id": "f41d9c0f-eac5-4fc4-9f48-ee3940c8dda6",
   "metadata": {
    "tags": []
   },
   "outputs": [],
   "source": [
    "def histogram3():\n",
    "    seqf=[]\n",
    "    for line in myfile:\n",
    "        if line.startswith('SEQRES'):\n",
    "            seqf.append(line.split()[4:])\n",
    "    s=[]\n",
    "    b = ''\n",
    "    for u in seqf:\n",
    "        # print(i)\n",
    "        for y in u:\n",
    "            s.append(y)\n",
    "            sorted_list = sorted(s)\n",
    "    # print(sorted_list)\n",
    "    \n",
    "    c = {}\n",
    "    lc_list = ' '.join(sorted_list)\n",
    "    result = lc_list.title()\n",
    "    lowcase = result.split(' ')\n",
    "    lowcase_rev = lowcase[::-1]\n",
    "    lowcase_rev_count = sorted(lowcase_rev,key = lowcase_rev.count,reverse = True)\n",
    "    # print(lowcase_rev_count)\n",
    "    # print(lowcase_rev)\n",
    "    # print(lowcase)\n",
    "    for z in lowcase_rev_count:\n",
    "        n = '\\n'.ljust(16)\n",
    "        a = lowcase_rev_count.count(z)\n",
    "        # print(z+'(%d) : '%(a)+'*'*a)\n",
    "        c[z] = z.ljust(4)+'(%s)'.rjust(5)%(f'{a:>3}')+ ':'.center(5) +f\"{n.join([('*'*a)[y:y+80] for y in range(0,len(('*'*a)),80)])}\"\n",
    "    for value in c.values():\n",
    "        print(value)"
   ]
  },
  {
   "cell_type": "code",
   "execution_count": 666,
   "id": "b302b601-c227-4885-bb55-ac217fa65487",
   "metadata": {
    "collapsed": true,
    "jupyter": {
     "outputs_hidden": true
    },
    "tags": []
   },
   "outputs": [
    {
     "name": "stdout",
     "output_type": "stream",
     "text": [
      "Leu  (148)  :  ********************************************************************************\n",
      "               ********************************************************************\n",
      "Ser  (132)  :  ********************************************************************************\n",
      "               ****************************************************\n",
      "Glu  (132)  :  ********************************************************************************\n",
      "               ****************************************************\n",
      "Ile  (130)  :  ********************************************************************************\n",
      "               **************************************************\n",
      "Val  (112)  :  ********************************************************************************\n",
      "               ********************************\n",
      "Gly  (112)  :  ********************************************************************************\n",
      "               ********************************\n",
      "Ala  (104)  :  ********************************************************************************\n",
      "               ************************\n",
      "Arg  ( 94)  :  ********************************************************************************\n",
      "               **************\n",
      "Phe  ( 92)  :  ********************************************************************************\n",
      "               ************\n",
      "Thr  ( 88)  :  ********************************************************************************\n",
      "               ********\n",
      "Pro  ( 78)  :  ******************************************************************************\n",
      "Lys  ( 74)  :  **************************************************************************\n",
      "Gln  ( 68)  :  ********************************************************************\n",
      "Tyr  ( 64)  :  ****************************************************************\n",
      "Asp  ( 64)  :  ****************************************************************\n",
      "Asn  ( 64)  :  ****************************************************************\n",
      "Met  ( 52)  :  ****************************************************\n",
      "His  ( 44)  :  ********************************************\n",
      "Trp  ( 24)  :  ************************\n",
      "Cys  ( 18)  :  ******************\n"
     ]
    }
   ],
   "source": [
    "histogram3(ch1)"
   ]
  },
  {
   "cell_type": "code",
   "execution_count": 45,
   "id": "07659794-4a9f-4512-8c2b-84e636912ef0",
   "metadata": {
    "tags": []
   },
   "outputs": [],
   "source": [
    "def histogram4():\n",
    "    seqf=[]\n",
    "    for line in myfile:\n",
    "        if line.startswith('SEQRES'):\n",
    "            seqf.append(line.split()[4:])\n",
    "    s=[]\n",
    "    b = ''\n",
    "    for u in seqf:\n",
    "        # print(i)\n",
    "        for y in u:\n",
    "            s.append(y)\n",
    "            sorted_list = sorted(s)\n",
    "    # print(sorted_list)\n",
    "    \n",
    "    c = {}\n",
    "    lc_list = ' '.join(sorted_list)\n",
    "    result = lc_list.title()\n",
    "    lowcase = result.split(' ')\n",
    "    # lowcase_rev = lowcase[::-1]\n",
    "    lowcase_count = sorted(lowcase,key = lowcase.count)\n",
    "    for z in lowcase_count:\n",
    "        n = '\\n'.ljust(16)\n",
    "        a = lowcase_count.count(z)\n",
    "        # print(z+'(%d) : '%(a)+'*'*a)\n",
    "        c[z] = z.ljust(4)+'(%s)'.rjust(5)%(f'{a:>3}')+ ':'.center(5) +f\"{n.join([('*'*a)[y:y+80] for y in range(0,len(('*'*a)),80)])}\"\n",
    "    for value in c.values():\n",
    "        print(value)"
   ]
  },
  {
   "cell_type": "code",
   "execution_count": 668,
   "id": "a6ac7930-c06f-41be-860a-f2b5cccfcdac",
   "metadata": {
    "collapsed": true,
    "jupyter": {
     "outputs_hidden": true
    },
    "tags": []
   },
   "outputs": [
    {
     "name": "stdout",
     "output_type": "stream",
     "text": [
      "Cys  ( 18)  :  ******************\n",
      "Trp  ( 24)  :  ************************\n",
      "His  ( 44)  :  ********************************************\n",
      "Met  ( 52)  :  ****************************************************\n",
      "Asn  ( 64)  :  ****************************************************************\n",
      "Asp  ( 64)  :  ****************************************************************\n",
      "Tyr  ( 64)  :  ****************************************************************\n",
      "Gln  ( 68)  :  ********************************************************************\n",
      "Lys  ( 74)  :  **************************************************************************\n",
      "Pro  ( 78)  :  ******************************************************************************\n",
      "Thr  ( 88)  :  ********************************************************************************\n",
      "               ********\n",
      "Phe  ( 92)  :  ********************************************************************************\n",
      "               ************\n",
      "Arg  ( 94)  :  ********************************************************************************\n",
      "               **************\n",
      "Ala  (104)  :  ********************************************************************************\n",
      "               ************************\n",
      "Gly  (112)  :  ********************************************************************************\n",
      "               ********************************\n",
      "Val  (112)  :  ********************************************************************************\n",
      "               ********************************\n",
      "Ile  (130)  :  ********************************************************************************\n",
      "               **************************************************\n",
      "Glu  (132)  :  ********************************************************************************\n",
      "               ****************************************************\n",
      "Ser  (132)  :  ********************************************************************************\n",
      "               ****************************************************\n",
      "Leu  (148)  :  ********************************************************************************\n",
      "               ********************************************************************\n"
     ]
    }
   ],
   "source": [
    "histogram4(ch1)"
   ]
  },
  {
   "cell_type": "code",
   "execution_count": 319,
   "id": "87c0385f-6734-4177-b2bf-ecaf769c92ab",
   "metadata": {},
   "outputs": [],
   "source": [
    "def structure():\n",
    "    print('Secondary Structure of the PDB id %s: '%(path1))\n",
    "    # print(chain_list)\n",
    "    for i,c in enumerate(chain_list):\n",
    "        n = '\\n'\n",
    "        print('Chain',c+':')\n",
    "        print('(1)')\n",
    "        structure_rep_list = list('-'*len(sequence()[c]))\n",
    "        tag_list = list('-'*len(sequence()[c]))\n",
    "        for line in myfile:\n",
    "            if line.startswith('HELIX'):\n",
    "                if c == line[19]:\n",
    "                    start_pos = int(line[21:25].strip())\n",
    "                    end_pos = int(line[33:37].strip())\n",
    "                    helix_tag = line[7:10].strip()\n",
    "                    for i,j in enumerate(structure_rep_list, start=1):\n",
    "                        if i >= start_pos and i <= end_pos:\n",
    "                            structure_rep_list[i-1] = '/'\n",
    "                        if i == start_pos:\n",
    "                            tag_list[i-1] = helix_tag\n",
    "            if line.startswith('SHEET'):\n",
    "                if c == line[21]:\n",
    "                    start_pos = int(line[22:26].strip())\n",
    "                    end_pos = int(line[33:37].strip())\n",
    "                    tag1 =  line[7:10].strip()\n",
    "                    tag2 = line[11:14].strip()\n",
    "                    sheet_tag = tag1 + tag2\n",
    "                    for i,j in enumerate(structure_rep_list, start=1):\n",
    "                        if i >= start_pos and i <= end_pos:\n",
    "                            structure_rep_list[i-1] = '|'\n",
    "                        if i == start_pos:\n",
    "                            if sheet_tag==1:\n",
    "                                tag_list[i-1]=sheet_tag\n",
    "                            else:\n",
    "                                tag_list[i-1:i+1]=sheet_tag\n",
    "        print('end')\n",
    "        structure_rep = ''.join(structure_rep_list)\n",
    "        tag = ''.join(tag_list)\n",
    "        for n in range(0,len(sequence()[c]),80):\n",
    "            line = sequence()[c][n:n+80]\n",
    "            print(line)\n",
    "            print(structure_rep[n:n+80])\n",
    "            print(tag[n:n+80].replace('-', ' '))\n",
    "        print(f\"({amino_acid_no()[c]})\")\n",
    "        print('\\n')"
   ]
  },
  {
   "cell_type": "code",
   "execution_count": 320,
   "id": "a22e200d-50ae-4459-b79f-4a768874cdcc",
   "metadata": {},
   "outputs": [
    {
     "name": "stdout",
     "output_type": "stream",
     "text": [
      "Secondary Structure of the PDB id 3AYU.pdb: \n",
      "Chain A:\n",
      "(1)\n",
      "end\n",
      "YNFFPRKPKWDKNQITYRIIGYTPDLDPETVDDAFARAFQVWSDVTPLRFSRIHDGEADIMINFGRWEHGDGYPFDGKDG\n",
      "-||----------||||||-------//////////////////----||||-------||||||---------------\n",
      " 1A          2B           1                     1B         3B                   \n",
      "LLAHAFAPGTGVGGDSHFDDDELWTLGKGVGYSLFLVAAHAFGHAMGLEHSQDPGALMAPIYTYTKNFRLSQDDIKGIQE\n",
      "--||||---------||||----||------||/////////////-||---------------------//////////\n",
      "  5B           4B      1C      2C2             2A                     3         \n",
      "LYGASPD\n",
      "///----\n",
      "       \n",
      "(167)\n",
      "\n",
      "\n",
      "Chain B:\n",
      "(1)\n",
      "end\n",
      "ISYGNDALMP\n",
      "------||--\n",
      "      6B  \n",
      "( 10)\n",
      "\n",
      "\n"
     ]
    }
   ],
   "source": [
    "structure()"
   ]
  },
  {
   "cell_type": "code",
   "execution_count": null,
   "id": "bd167b83-2f86-4be2-9993-89741cbe855b",
   "metadata": {},
   "outputs": [],
   "source": [
    "quit = input('Do you want to exit(E) or do you want go back to the menu (M):')\n",
    "if quit == 'E':\n",
    "    break\n",
    "else:\n",
    "    menu()\n"
   ]
  },
  {
   "cell_type": "code",
   "execution_count": null,
   "id": "17f96e43-0c1c-4ae1-8d6f-8138e97d1efc",
   "metadata": {},
   "outputs": [],
   "source": [
    "PDB_file = '3AYU.pdb'\n",
    "with open(PDB_file, 'r') as f:\n",
    "    dss_f = f.readlines()\n",
    "    chain_id = ''\n",
    "    chain = []\n",
    "    for line in dss_f:\n",
    "        if line.startswith('DBREF'):\n",
    "            #print(line)\n",
    "            i = line[7:11]\n",
    "            c = line[12]\n",
    "            #print(c)\n",
    "            #getting chain id or ids\n",
    "            if i not in chain_id and len(chain_id) > 0:\n",
    "                chain_id += i\n",
    "            elif i not in chain_id and len(chain_id) == 4:\n",
    "                chain_id += ' and ' + i\n",
    "            elif i not in chain_id and len(chain_id) != 4 and len(chain_id) != 0:\n",
    "                chain_id += ', ' + i\n",
    "            #appending chain name to chain list\n",
    "            if c not in chain:\n",
    "                    chain.append(c)\n",
    "    #print(chain)\n",
    "    no_aa_dict = {}\n",
    "    for b in dss_f:\n",
    "        if b.startswith('SEQRES'):\n",
    "            for x in chain:\n",
    "                if b[11] == x:\n",
    "                    no_aa_dict[b[11]]=b[13:17].strip()\n",
    "    #print(no_aa_dict)\n",
    "        \n",
    "    #SEQUENCES\n",
    "    dict3_1aa = {'CYS': 'C', 'ASP': 'D', 'SER': 'S', 'GLN': 'Q', 'LYS': 'K',\n",
    "                 'ILE': 'I', 'PRO': 'P', 'THR': 'T', 'PHE': 'F', 'ASN': 'N',\n",
    "                 'GLY': 'G', 'HIS': 'H', 'LEU': 'L', 'ARG': 'R', 'TRP': 'W',\n",
    "                 'ALA': 'A', 'VAL':'V', 'GLU': 'E', 'TYR': 'Y', 'MET': 'M'}\n",
    "    sequences_raw= []\n",
    "    for b in dss_f:\n",
    "        if b.startswith('SEQRES'):\n",
    "            d={b[11]:b[19:70]}\n",
    "            sequences_raw.append(d)\n",
    "    #print(sequences_raw)\n",
    "\n",
    "    sequences = {}\n",
    "    for x in sequences_raw:\n",
    "        for i,j in x.items():\n",
    "            if i in sequences.keys():\n",
    "                sequences[i] += j + ' '\n",
    "            else:\n",
    "                sequences[i] = j + ' '\n",
    "    #print(sequences)\n",
    "\n",
    "    final_sequences = {}\n",
    "    for e, w in sequences.items():\n",
    "        #print(w)\n",
    "        for q in range(0, len(w), 4):\n",
    "            aa3 = w[q:q+3]\n",
    "            #print(aa3)\n",
    "            if aa3 not in '   ':\n",
    "                aa1 = dict3_1aa[aa3]\n",
    "                #print(aa1)\n",
    "                if e in final_sequences.keys():\n",
    "                    final_sequences[e] += aa1\n",
    "                else:\n",
    "                    final_sequences[e] = aa1\n",
    "    #print(final_sequences)\n",
    "    \n",
    "    #Printing  outputs\n",
    "    print(f'Secondary Structure of the PDB id {chain_id.split('.')[0]}:')\n",
    "    #print(chain)\n",
    "    for c in chain:\n",
    "        print(f'Chain {c}:')\n",
    "        print('(1)')\n",
    "        ######START OF S.S REPRESENTATION AND TAGS\n",
    "        structure_rep_list = list('-'*len(final_sequences[c]))\n",
    "        tag_list = list('-'*len(final_sequences[c]))\n",
    "        for line in dss_f:\n",
    "            if line.startswith('HELIX'):\n",
    "                if c == line[19]:\n",
    "                    start_pos = int(line[21:25].strip())\n",
    "                    end_pos = int(line[33:37].strip())\n",
    "                    helix_tag = line[7:10].strip()\n",
    "                    #print(start_pos)\n",
    "                    for i,j in enumerate(structure_rep_list, start=1):\n",
    "                        if i >= start_pos and i <= end_pos:\n",
    "                            structure_rep_list[i-1] = '/'\n",
    "                        if i == start_pos:\n",
    "                            tag_list[i-1] = helix_tag\n",
    "                            \n",
    "            if line.startswith('SHEET'):\n",
    "                if c == line[21]:\n",
    "                    start_pos = int(line[22:26].strip())\n",
    "                    end_pos = int(line[33:37].strip())\n",
    "                    tag1 =  line[7:10].strip()\n",
    "                    tag2 = line[11:14].strip()\n",
    "                    sheet_tag = tag1 + tag2\n",
    "                    for i,j in enumerate(structure_rep_list, start=1):\n",
    "                        if i >= start_pos and i <= end_pos:\n",
    "                            structure_rep_list[i-1] = '|'\n",
    "                        if i == start_pos:\n",
    "                            if sheet_tag==1:\n",
    "                                tag_list[i-1]=sheet_tag\n",
    "                            else:\n",
    "                                tag_list[i-1:i+1]=sheet_tag\n",
    "                                \n",
    "        structure_rep = ''.join(structure_rep_list)\n",
    "        tag = ''.join(tag_list)\n",
    "#         print(structure_rep)\n",
    "#         print(tag)                   \n",
    "        ######END OF S.S REPRESENTATION AND TAGS\n",
    "    \n",
    "        #########PRINTING OUTPUTS CONTINUE##########\n",
    "        for i in range(0,len(final_sequences[c]),80):\n",
    "            line = final_sequences[c][i:i+80]\n",
    "            print(line)\n",
    "            print(structure_rep[i:i+80])\n",
    "            print(tag[i:i+80].replace('-', ' '))\n",
    "        print(f\"({no_aa_dict[c]})\")"
   ]
  }
 ],
 "metadata": {
  "kernelspec": {
   "display_name": "Python 3 (ipykernel)",
   "language": "python",
   "name": "python3"
  },
  "language_info": {
   "codemirror_mode": {
    "name": "ipython",
    "version": 3
   },
   "file_extension": ".py",
   "mimetype": "text/x-python",
   "name": "python",
   "nbconvert_exporter": "python",
   "pygments_lexer": "ipython3",
   "version": "3.9.7"
  },
  "toc-autonumbering": true,
  "toc-showcode": true
 },
 "nbformat": 4,
 "nbformat_minor": 5
}
